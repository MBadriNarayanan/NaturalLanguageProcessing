{
  "nbformat": 4,
  "nbformat_minor": 0,
  "metadata": {
    "colab": {
      "name": "03VocabularyAndMatching.ipynb",
      "provenance": [],
      "collapsed_sections": []
    },
    "kernelspec": {
      "name": "python3",
      "display_name": "Python 3"
    }
  },
  "cells": [
    {
      "cell_type": "markdown",
      "metadata": {
        "id": "BLLKQ3azwPPV",
        "colab_type": "text"
      },
      "source": [
        "# 1) Rule-Based Matching"
      ]
    },
    {
      "cell_type": "markdown",
      "metadata": {
        "id": "AMgckZZXwmjf",
        "colab_type": "text"
      },
      "source": [
        "spaCy’s rule-based matcher engines and components not only let you find the words and phrases you’re looking for\n",
        ",they also give you access to the tokens within the document and their relationships\n",
        "\n",
        "This means you can easily access and analyze the surrounding tokens, merge spans into single tokens or add entries to the named entities in doc.ents"
      ]
    },
    {
      "cell_type": "code",
      "metadata": {
        "id": "zE73bDPDV8yv",
        "colab_type": "code",
        "colab": {}
      },
      "source": [
        "import spacy\n",
        "nlp = spacy.load('en_core_web_sm')"
      ],
      "execution_count": 0,
      "outputs": []
    },
    {
      "cell_type": "code",
      "metadata": {
        "id": "cBL1fOTbO9on",
        "colab_type": "code",
        "colab": {}
      },
      "source": [
        "# Import the Matcher library\n",
        "from spacy.matcher import Matcher\n",
        "matcher = Matcher(nlp.vocab) # created matcher object and pass nlp.vocab\n",
        "\n",
        "# Here matcher is an object that pairs to current Vocab object\n",
        "# We can add and remove specific named matchers to matcher as needed"
      ],
      "execution_count": 0,
      "outputs": []
    },
    {
      "cell_type": "markdown",
      "metadata": {
        "id": "j3gQj0DIbwGN",
        "colab_type": "text"
      },
      "source": [
        "## Creating patterns"
      ]
    },
    {
      "cell_type": "code",
      "metadata": {
        "id": "FVp7sLzTbtaj",
        "colab_type": "code",
        "colab": {}
      },
      "source": [
        "# create a list, and inside that list add series of dictionaries\n",
        "\n",
        "# Hello World can appear in the following ways,\n",
        "# 1) Hello World\n",
        "# 2) Hello-World\n",
        "\n",
        "pattern_1 = [{'LOWER': 'hello'}, {'LOWER': 'world'}]\n",
        "pattern_2 = [{'LOWER': 'hello'}, {'IS_PUNCT': True}, {'LOWER': 'world'}]\n",
        "\n",
        "# 'LOWER', 'IS_PUNCT' are the attributes\n",
        "# they has to be written in  that way only"
      ],
      "execution_count": 0,
      "outputs": []
    },
    {
      "cell_type": "code",
      "metadata": {
        "id": "bxApvK08fItL",
        "colab_type": "code",
        "colab": {}
      },
      "source": [
        "# Add patterns to matcher object\n",
        "\n",
        "# Add a match rule to matcher, A match rule consists of,\n",
        "# 1) An ID key\n",
        "# 2) an on_match callback\n",
        "# 3) one or more patterns\n",
        "\n",
        "matcher.add('Hello World', None, pattern_1, pattern_2)"
      ],
      "execution_count": 0,
      "outputs": []
    },
    {
      "cell_type": "code",
      "metadata": {
        "id": "yJg4Jd8Vgjaw",
        "colab_type": "code",
        "colab": {}
      },
      "source": [
        "# create a document\n",
        "doc = nlp(\" 'Hello World' are the first two printed words for most of the programmers, printing 'Hello-World' is most common for beginners\")"
      ],
      "execution_count": 0,
      "outputs": []
    },
    {
      "cell_type": "code",
      "metadata": {
        "id": "BRGW4ZNdeDDd",
        "colab_type": "code",
        "outputId": "7fcccbbc-cd3d-46b5-ed3c-97b327772b1e",
        "colab": {
          "base_uri": "https://localhost:8080/",
          "height": 33
        }
      },
      "source": [
        "doc"
      ],
      "execution_count": 6,
      "outputs": [
        {
          "output_type": "execute_result",
          "data": {
            "text/plain": [
              " 'Hello World' are the first two printed words for most of the programmers, printing 'Hello-World' is most common for beginners"
            ]
          },
          "metadata": {
            "tags": []
          },
          "execution_count": 6
        }
      ]
    },
    {
      "cell_type": "markdown",
      "metadata": {
        "id": "dz_S5KMVnndZ",
        "colab_type": "text"
      },
      "source": [
        "## finding the matches"
      ]
    },
    {
      "cell_type": "code",
      "metadata": {
        "id": "KXxCyjlqrtzP",
        "colab_type": "code",
        "outputId": "ac617337-4f19-41b0-84ce-ff5703aac989",
        "colab": {
          "base_uri": "https://localhost:8080/",
          "height": 33
        }
      },
      "source": [
        "find_matches = matcher(doc) # passin doc to matcher object and store this in a variable \n",
        "print(find_matches)\n",
        "\n",
        "# it returns output list of tuples\n",
        "# string ID, index start and index end"
      ],
      "execution_count": 7,
      "outputs": [
        {
          "output_type": "stream",
          "text": [
            "[(8585552006568828647, 2, 4), (8585552006568828647, 19, 22)]\n"
          ],
          "name": "stdout"
        }
      ]
    },
    {
      "cell_type": "code",
      "metadata": {
        "id": "k4Xz0U2hl1Nv",
        "colab_type": "code",
        "outputId": "be3443f0-3ed0-45a7-fd43-eeb270606fae",
        "colab": {
          "base_uri": "https://localhost:8080/",
          "height": 50
        }
      },
      "source": [
        "# define a function to find the matches\n",
        "\n",
        "for match_id, start, end in find_matches:\n",
        "    string_id = nlp.vocab.strings[match_id]  # get string representation\n",
        "    span = doc[start:end]                    # get the matched span\n",
        "    print(match_id, string_id, start, end, span.text)"
      ],
      "execution_count": 8,
      "outputs": [
        {
          "output_type": "stream",
          "text": [
            "8585552006568828647 Hello World 2 4 Hello World\n",
            "8585552006568828647 Hello World 19 22 Hello-World\n"
          ],
          "name": "stdout"
        }
      ]
    },
    {
      "cell_type": "code",
      "metadata": {
        "id": "5GF8u-F3nvRC",
        "colab_type": "code",
        "colab": {}
      },
      "source": [
        "# Removing the matches\n",
        "matcher.remove('Hello World')"
      ],
      "execution_count": 0,
      "outputs": []
    },
    {
      "cell_type": "markdown",
      "metadata": {
        "id": "Jc8jL0FvoH9J",
        "colab_type": "text"
      },
      "source": [
        "## Setting pattern options and quantifiers"
      ]
    },
    {
      "cell_type": "code",
      "metadata": {
        "id": "MWRmOxHboJi5",
        "colab_type": "code",
        "colab": {}
      },
      "source": [
        "# Redefine the patterns:\n",
        "pattern_3 = [{'LOWER': 'hello'}, {'LOWER': 'world'}]\n",
        "pattern_4 = [{'LOWER': 'hello'}, {'IS_PUNCT': True, 'OP':'*'}, {'LOWER': 'world'}]\n",
        "# 'OP':'*' ----> Thisis going to allow this pattern to match zero or more times for any punctuation\n",
        "\n",
        "# Add the new set of patterns to the 'Hellow World' matcher:\n",
        "matcher.add('Hello World', None, pattern_3, pattern_4)"
      ],
      "execution_count": 0,
      "outputs": []
    },
    {
      "cell_type": "code",
      "metadata": {
        "id": "c3B1QXLVoMVc",
        "colab_type": "code",
        "colab": {}
      },
      "source": [
        "doc_2 = nlp(\"You can print Hello World or hello world or Hello-World\")"
      ],
      "execution_count": 0,
      "outputs": []
    },
    {
      "cell_type": "code",
      "metadata": {
        "id": "Oac-XxG8qTuF",
        "colab_type": "code",
        "outputId": "dce2583f-75b3-4849-f181-98fda198122d",
        "colab": {
          "base_uri": "https://localhost:8080/",
          "height": 33
        }
      },
      "source": [
        "find_matches = matcher(doc_2)\n",
        "print(find_matches)"
      ],
      "execution_count": 12,
      "outputs": [
        {
          "output_type": "stream",
          "text": [
            "[(8585552006568828647, 3, 5), (8585552006568828647, 6, 8), (8585552006568828647, 9, 12)]\n"
          ],
          "name": "stdout"
        }
      ]
    },
    {
      "cell_type": "markdown",
      "metadata": {
        "id": "GrZp0yjVv22g",
        "colab_type": "text"
      },
      "source": [
        "# 2) Phrase Matching"
      ]
    },
    {
      "cell_type": "markdown",
      "metadata": {
        "id": "JoJS53ipFlxB",
        "colab_type": "text"
      },
      "source": [
        "In the above section we used token patterns to perform rule-based matching. An alternative and more efficient method is to match on terminology lists\n",
        "\n",
        "In this case we use PhraseMatcher to create a Doc object from a list of phrases, and pass that into matcher instead\n"
      ]
    },
    {
      "cell_type": "code",
      "metadata": {
        "id": "TjTSL_-0FxU5",
        "colab_type": "code",
        "colab": {}
      },
      "source": [
        "import spacy\n",
        "nlp = spacy.load('en_core_web_sm')"
      ],
      "execution_count": 0,
      "outputs": []
    },
    {
      "cell_type": "code",
      "metadata": {
        "id": "JM9hCo7PF4zY",
        "colab_type": "code",
        "colab": {}
      },
      "source": [
        "# Import the PhraseMatcher library\n",
        "from spacy.matcher import PhraseMatcher\n",
        "matcher = PhraseMatcher(nlp.vocab)"
      ],
      "execution_count": 0,
      "outputs": []
    },
    {
      "cell_type": "code",
      "metadata": {
        "id": "PGxbT7_JF6_m",
        "colab_type": "code",
        "colab": {}
      },
      "source": [
        "phrase_list = [\"Barack Obama\", \"Angela Merkel\", \"Washington, D.C.\"]"
      ],
      "execution_count": 0,
      "outputs": []
    },
    {
      "cell_type": "code",
      "metadata": {
        "id": "VRfdLc-PHHjH",
        "colab_type": "code",
        "colab": {}
      },
      "source": [
        "# Convert each phrase to a document object\n",
        "phrase_patterns = [nlp(text) for text in phrase_list] # to do that we are using list comprehension"
      ],
      "execution_count": 0,
      "outputs": []
    },
    {
      "cell_type": "code",
      "metadata": {
        "id": "7hTe16VdInID",
        "colab_type": "code",
        "outputId": "bf0cace1-e393-49a0-af3e-85a405e3aa4a",
        "colab": {
          "base_uri": "https://localhost:8080/",
          "height": 33
        }
      },
      "source": [
        "phrase_patterns\n",
        "# phrase objects are not strings"
      ],
      "execution_count": 17,
      "outputs": [
        {
          "output_type": "execute_result",
          "data": {
            "text/plain": [
              "[Barack Obama, Angela Merkel, Washington, D.C.]"
            ]
          },
          "metadata": {
            "tags": []
          },
          "execution_count": 17
        }
      ]
    },
    {
      "cell_type": "code",
      "metadata": {
        "id": "1q3ozY6WJF6B",
        "colab_type": "code",
        "outputId": "4158cab2-c12f-4925-dbd7-35f1dceefdd9",
        "colab": {
          "base_uri": "https://localhost:8080/",
          "height": 33
        }
      },
      "source": [
        "type(phrase_patterns[0])\n",
        "# they are the spacy docs\n",
        "# thats why we don't have any quotes there"
      ],
      "execution_count": 18,
      "outputs": [
        {
          "output_type": "execute_result",
          "data": {
            "text/plain": [
              "spacy.tokens.doc.Doc"
            ]
          },
          "metadata": {
            "tags": []
          },
          "execution_count": 18
        }
      ]
    },
    {
      "cell_type": "code",
      "metadata": {
        "id": "DIFbvD9yIdcV",
        "colab_type": "code",
        "colab": {}
      },
      "source": [
        "# pass each doc object into the matcher\n",
        "matcher.add(\"TerminologyList\", None, *phrase_patterns)\n",
        "# thats we have to add asterisk mark before phrase_pattern"
      ],
      "execution_count": 0,
      "outputs": []
    },
    {
      "cell_type": "code",
      "metadata": {
        "id": "UY4A1TI-HJKQ",
        "colab_type": "code",
        "colab": {}
      },
      "source": [
        "doc_3 = nlp(\"German Chancellor Angela Merkel and US President Barack Obama \"\n",
        "          \"converse in the Oval Office inside the White House in Washington, D.C.\")"
      ],
      "execution_count": 0,
      "outputs": []
    },
    {
      "cell_type": "code",
      "metadata": {
        "id": "ZsoblgiAHMXg",
        "colab_type": "code",
        "outputId": "e7aa4343-56bd-492a-ac5f-bd5eef1d58ad",
        "colab": {
          "base_uri": "https://localhost:8080/",
          "height": 33
        }
      },
      "source": [
        "find_matches = matcher(doc_3) # passin doc to matcher object and store this in a variable \n",
        "print(find_matches)"
      ],
      "execution_count": 21,
      "outputs": [
        {
          "output_type": "stream",
          "text": [
            "[(3766102292120407359, 2, 4), (3766102292120407359, 7, 9), (3766102292120407359, 19, 22)]\n"
          ],
          "name": "stdout"
        }
      ]
    },
    {
      "cell_type": "code",
      "metadata": {
        "id": "DCpTU7i-KaLm",
        "colab_type": "code",
        "outputId": "ef17118a-c179-4bfa-f837-9cfbe28eaa2d",
        "colab": {
          "base_uri": "https://localhost:8080/",
          "height": 67
        }
      },
      "source": [
        "# define a function to find the matches\n",
        "\n",
        "for match_id, start, end in find_matches:\n",
        "    string_id = nlp.vocab.strings[match_id]  # get string representation\n",
        "    span = doc_3[start:end]                    # get the matched span\n",
        "    print(match_id, string_id, start, end, span.text)"
      ],
      "execution_count": 22,
      "outputs": [
        {
          "output_type": "stream",
          "text": [
            "3766102292120407359 TerminologyList 2 4 Angela Merkel\n",
            "3766102292120407359 TerminologyList 7 9 Barack Obama\n",
            "3766102292120407359 TerminologyList 19 22 Washington, D.C.\n"
          ],
          "name": "stdout"
        }
      ]
    },
    {
      "cell_type": "code",
      "metadata": {
        "id": "09SwcPrFxgcZ",
        "colab_type": "code",
        "colab": {}
      },
      "source": [
        ""
      ],
      "execution_count": 0,
      "outputs": []
    }
  ]
}